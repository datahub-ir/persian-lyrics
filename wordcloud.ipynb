{
  "nbformat": 4,
  "nbformat_minor": 0,
  "metadata": {
    "kernelspec": {
      "display_name": "Python 3",
      "language": "python",
      "name": "python3"
    },
    "language_info": {
      "codemirror_mode": {
        "name": "ipython",
        "version": 3
      },
      "file_extension": ".py",
      "mimetype": "text/x-python",
      "name": "python",
      "nbconvert_exporter": "python",
      "pygments_lexer": "ipython3",
      "version": "3.7.8"
    },
    "colab": {
      "name": "wordcloud.ipynb",
      "provenance": []
    }
  },
  "cells": [
    {
      "cell_type": "code",
      "metadata": {
        "id": "TYQRKmCDUN02",
        "outputId": "24f6ab7a-faa2-4c89-edb8-b1138d1fefcb",
        "colab": {
          "base_uri": "https://localhost:8080/"
        }
      },
      "source": [
        "pip install persian_wordcloud"
      ],
      "execution_count": 5,
      "outputs": [
        {
          "output_type": "stream",
          "text": [
            "Requirement already satisfied: persian_wordcloud in /usr/local/lib/python3.6/dist-packages (1.3.1)\n",
            "Requirement already satisfied: wordcloud in /usr/local/lib/python3.6/dist-packages (from persian_wordcloud) (1.5.0)\n",
            "Requirement already satisfied: arabic-reshaper in /usr/local/lib/python3.6/dist-packages (from persian_wordcloud) (2.1.1)\n",
            "Requirement already satisfied: python-bidi in /usr/local/lib/python3.6/dist-packages (from persian_wordcloud) (0.4.2)\n",
            "Requirement already satisfied: numpy>=1.6.1 in /usr/local/lib/python3.6/dist-packages (from wordcloud->persian_wordcloud) (1.18.5)\n",
            "Requirement already satisfied: pillow in /usr/local/lib/python3.6/dist-packages (from wordcloud->persian_wordcloud) (7.0.0)\n",
            "Requirement already satisfied: setuptools in /usr/local/lib/python3.6/dist-packages (from arabic-reshaper->persian_wordcloud) (50.3.2)\n",
            "Requirement already satisfied: future in /usr/local/lib/python3.6/dist-packages (from arabic-reshaper->persian_wordcloud) (0.16.0)\n",
            "Requirement already satisfied: six in /usr/local/lib/python3.6/dist-packages (from python-bidi->persian_wordcloud) (1.15.0)\n"
          ],
          "name": "stdout"
        }
      ]
    },
    {
      "cell_type": "code",
      "metadata": {
        "id": "CyrLbwCtTrDn"
      },
      "source": [
        "from persian_wordcloud.wordcloud import PersianWordCloud\r\n",
        "import re\r\n",
        "import pandas as pd"
      ],
      "execution_count": 6,
      "outputs": []
    },
    {
      "cell_type": "code",
      "metadata": {
        "id": "tBj-tTdETeWS"
      },
      "source": [
        "def removeWeirdChars(text):\n",
        "    weridPatterns = re.compile(\"[\"\n",
        "                               u\"\\U0001F600-\\U0001F64F\"  # emoticons\n",
        "                               u\"\\U0001F300-\\U0001F5FF\"  # symbols & pictographs\n",
        "                               u\"\\U0001F680-\\U0001F6FF\"  # transport & map symbols\n",
        "                               u\"\\U0001F1E0-\\U0001F1FF\"  # flags (iOS)\n",
        "                               u\"\\U00002702-\\U000027B0\"\n",
        "                               u\"\\U000024C2-\\U0001F251\"\n",
        "                               u\"\\U0001f926-\\U0001f937\"\n",
        "                               u'\\U00010000-\\U0010ffff'\n",
        "                               u\"\\u200d\"\n",
        "                               u\"\\u2640-\\u2642\"\n",
        "                               u\"\\u2600-\\u2B55\"\n",
        "                               u\"\\u23cf\"\n",
        "                               u\"\\u23e9\"\n",
        "                               u\"\\u231a\"\n",
        "                               u\"\\u3030\"\n",
        "                               u\"\\ufe0f\"\n",
        "                               u\"\\u2069\"\n",
        "                               u\"\\u2066\"\n",
        "                               u\"\\u200c\"\n",
        "                               u\"\\u2068\"\n",
        "                               u\"\\u2067\"\n",
        "                               \"]+\", flags=re.UNICODE)\n",
        "    return weridPatterns.sub(r'', text)"
      ],
      "execution_count": 7,
      "outputs": []
    },
    {
      "cell_type": "code",
      "metadata": {
        "colab": {
          "base_uri": "https://localhost:8080/",
          "height": 206
        },
        "id": "sPl0BAKLT1VF",
        "outputId": "d57ccc33-e82d-48ad-ed08-b6d15a5700c2"
      },
      "source": [
        "df = pd.read_excel('lyrics.xlsx')\r\n",
        "df.head()"
      ],
      "execution_count": 8,
      "outputs": [
        {
          "output_type": "execute_result",
          "data": {
            "text/html": [
              "<div>\n",
              "<style scoped>\n",
              "    .dataframe tbody tr th:only-of-type {\n",
              "        vertical-align: middle;\n",
              "    }\n",
              "\n",
              "    .dataframe tbody tr th {\n",
              "        vertical-align: top;\n",
              "    }\n",
              "\n",
              "    .dataframe thead th {\n",
              "        text-align: right;\n",
              "    }\n",
              "</style>\n",
              "<table border=\"1\" class=\"dataframe\">\n",
              "  <thead>\n",
              "    <tr style=\"text-align: right;\">\n",
              "      <th></th>\n",
              "      <th>singer</th>\n",
              "      <th>text</th>\n",
              "      <th>title</th>\n",
              "      <th>len</th>\n",
              "    </tr>\n",
              "  </thead>\n",
              "  <tbody>\n",
              "    <tr>\n",
              "      <th>0</th>\n",
              "      <td>احمد سلو</td>\n",
              "      <td>مراقبش باش تا بخنده چشماش\\nاین دل دیوونمو بیا ...</td>\n",
              "      <td>چپ️</td>\n",
              "      <td>612</td>\n",
              "    </tr>\n",
              "    <tr>\n",
              "      <th>1</th>\n",
              "      <td>مصطفی یگانه</td>\n",
              "      <td>دلی که شکست هواتو میکنه هی وقت و بی وقت\\nتو رو...</td>\n",
              "      <td>تو خوب بلدی️</td>\n",
              "      <td>759</td>\n",
              "    </tr>\n",
              "    <tr>\n",
              "      <th>2</th>\n",
              "      <td>علی خدابنده</td>\n",
              "      <td>پز میدم عشقتو به دنیا پیش توئه این دل باشی اگه...</td>\n",
              "      <td>طلوع بی غروب️</td>\n",
              "      <td>923</td>\n",
              "    </tr>\n",
              "    <tr>\n",
              "      <th>3</th>\n",
              "      <td>حامد همایون</td>\n",
              "      <td>چشم ما روشن عشق بی خبر آمده ای\\nبعد عمری دوری ...</td>\n",
              "      <td>چشم ما روشن عشق️</td>\n",
              "      <td>876</td>\n",
              "    </tr>\n",
              "    <tr>\n",
              "      <th>4</th>\n",
              "      <td>امو بند</td>\n",
              "      <td>حس میکنم خیلی فرق کردیم با قبل که نمیتونیم از ...</td>\n",
              "      <td>تو فرق داری️</td>\n",
              "      <td>809</td>\n",
              "    </tr>\n",
              "  </tbody>\n",
              "</table>\n",
              "</div>"
            ],
            "text/plain": [
              "         singer  ...  len\n",
              "0     احمد سلو   ...  612\n",
              "1  مصطفی یگانه   ...  759\n",
              "2  علی خدابنده   ...  923\n",
              "3  حامد همایون   ...  876\n",
              "4      امو بند   ...  809\n",
              "\n",
              "[5 rows x 4 columns]"
            ]
          },
          "metadata": {
            "tags": []
          },
          "execution_count": 8
        }
      ]
    },
    {
      "cell_type": "code",
      "metadata": {
        "id": "zJlZhjc3TeWI"
      },
      "source": [
        "stopwords = ['n','یه', 'تو','دیگه','تورو','دارم','میشه','رو','چی','ای','کن','منو','من','بگو','اون','خوئم','واسه','تویی','وقتی','نیست','کنم','داری','آخه','منی','خودم','خودت','نمیشه','نیست','باشه','باشی','','','','','','','','','','','','']\n",
        "\n",
        "def remove_general_stopwords(text):\n",
        "    filtered_tokens = [token for token in text.split() if token not in stopwords]\n",
        "    filtered_text = ' '.join(filtered_tokens)\n",
        "    return filtered_text\n",
        "\n",
        "df.text = df.text.apply(remove_general_stopwords)\n",
        "\n",
        "all_text =''\n",
        "for index, row in df.iterrows():\n",
        "    all_text += row['text']\n",
        "\n",
        "# Generate a word cloud image\n",
        "wordcloud = PersianWordCloud(\n",
        "        only_persian=True,\n",
        "        max_words=100,\n",
        "        margin=0,\n",
        "        width=800,\n",
        "        height=800,\n",
        "        min_font_size=1,\n",
        "        max_font_size=500,\n",
        "        background_color=\"white\").generate(all_text)\n",
        "image = wordcloud.to_image()\n",
        "image.save(\"res.png\")"
      ],
      "execution_count": 9,
      "outputs": []
    },
    {
      "cell_type": "code",
      "metadata": {
        "id": "g-cajM_aWj7E"
      },
      "source": [
        ""
      ],
      "execution_count": 9,
      "outputs": []
    },
    {
      "cell_type": "code",
      "metadata": {
        "id": "dIh-BlM3TeWV"
      },
      "source": [
        ""
      ],
      "execution_count": 9,
      "outputs": []
    }
  ]
}